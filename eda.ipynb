{
 "cells": [
  {
   "cell_type": "markdown",
   "id": "f63bccc8-bcc9-4e99-a367-2a515ad368b8",
   "metadata": {},
   "source": [
    "## Download dataset\n",
    "\n",
    "https://drive.google.com/file/d/143WUHzUt77bbq1uH5-cLhW6ij-RoPzEu/view?usp=drive_link"
   ]
  },
  {
   "cell_type": "markdown",
   "id": "734c87d7-4a69-499f-8bb8-cd162be637df",
   "metadata": {},
   "source": [
    "## Importing Libraries"
   ]
  },
  {
   "cell_type": "code",
   "execution_count": 4,
   "id": "13cfc925-7727-4473-9670-cc47f32febb7",
   "metadata": {},
   "outputs": [],
   "source": [
    "import pandas as pd\n",
    "import matplotlib.pyplot as plt\n",
    "import seaborn as sns\n",
    "from tqdm import tqdm"
   ]
  },
  {
   "cell_type": "code",
   "execution_count": 10,
   "id": "8981f1d1-e7e8-4756-802a-5dfa04ac0993",
   "metadata": {},
   "outputs": [],
   "source": [
    "df = pd.read_csv(\"EdStatsData.csv\")\n",
    "\n",
    "# Not all indicators are available for every country and year. Some of them are very rare.\n",
    "indicator_count = df[\"Indicator Code\"].value_counts()\n",
    "\n",
    "# Create a mapping from indicator_code to indicator_name\n",
    "code_2_name = {row[\"Indicator Code\"]: row[\"Indicator Name\"] for _, row in df.iterrows()}\n"
   ]
  },
  {
   "cell_type": "markdown",
   "id": "dd699809-7521-4366-bc62-d7ce983bc39b",
   "metadata": {},
   "source": [
    "## Data Cleaning"
   ]
  },
  {
   "cell_type": "markdown",
   "id": "6d4ccecc-6722-4502-946d-34da057efd04",
   "metadata": {},
   "source": [
    "#### Delete rows which has less than 5 non-na values"
   ]
  },
  {
   "cell_type": "code",
   "execution_count": 9,
   "id": "4873850b-219f-4d8c-a32d-da3af8c42d77",
   "metadata": {},
   "outputs": [],
   "source": [
    "df.dropna(thresh=5, inplace=True)"
   ]
  },
  {
   "cell_type": "markdown",
   "id": "187ec583-80e7-4424-a15a-91c841c16401",
   "metadata": {},
   "source": [
    "#### Drop unused columns"
   ]
  },
  {
   "cell_type": "code",
   "execution_count": null,
   "id": "e2e5ef91-a151-468d-b5f1-d532bfe9e7b4",
   "metadata": {},
   "outputs": [],
   "source": [
    "df.drop(\"Indicator Name\", axis=1, inplace=True)\n",
    "df.drop(\"Country Code\", axis=1, inplace=True)\n",
    "\n",
    "# Drop future years\n",
    "for col in df.columns:\n",
    "    try:\n",
    "        if int(col) > 2017:\n",
    "            df.drop(col, axis=1, inplace=True)\n",
    "    except ValueError:\n",
    "        continue"
   ]
  },
  {
   "cell_type": "code",
   "execution_count": 15,
   "id": "d8deb399-b41d-449f-aa6b-2bd5481b3c8f",
   "metadata": {},
   "outputs": [],
   "source": [
    "## Data Transformation"
   ]
  },
  {
   "cell_type": "code",
   "execution_count": null,
   "id": "d170370a-4d61-4b7a-9bd5-a1e73d201959",
   "metadata": {},
   "outputs": [],
   "source": []
  }
 ],
 "metadata": {
  "kernelspec": {
   "display_name": "Python 3 (ipykernel)",
   "language": "python",
   "name": "python3"
  },
  "language_info": {
   "codemirror_mode": {
    "name": "ipython",
    "version": 3
   },
   "file_extension": ".py",
   "mimetype": "text/x-python",
   "name": "python",
   "nbconvert_exporter": "python",
   "pygments_lexer": "ipython3",
   "version": "3.9.13"
  }
 },
 "nbformat": 4,
 "nbformat_minor": 5
}
